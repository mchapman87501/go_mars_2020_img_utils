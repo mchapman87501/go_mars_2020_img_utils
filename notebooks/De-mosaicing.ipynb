{
 "cells": [
  {
   "cell_type": "code",
   "execution_count": 1,
   "id": "certain-cooperation",
   "metadata": {},
   "outputs": [],
   "source": [
    "# Trying to gin up a human-readable, simple-minded (bilinear interpolation) algorithm for de-mosaicing a\n",
    "# sensor readout that has an RGGB color filter array (CFA).\n",
    "\n",
    "# Red filters lie over cells whose x coordinate is even and whose y coordinate is even:  even, even\n",
    "# Blue filters: odd, odd\n",
    "# Green filters: even, odd *and* odd, even."
   ]
  },
  {
   "cell_type": "code",
   "execution_count": 2,
   "id": "civilian-chuck",
   "metadata": {},
   "outputs": [],
   "source": [
    "import numpy as np\n",
    "from PIL import Image"
   ]
  },
  {
   "cell_type": "code",
   "execution_count": 13,
   "id": "reasonable-fishing",
   "metadata": {},
   "outputs": [
    {
     "name": "stdout",
     "output_type": "stream",
     "text": [
      "Dummy image data: [[100   1 102 ... 255 253 255]\n",
      " [  0   1   2 ... 252 253 254]\n",
      " [100   1 102 ... 255 253 255]\n",
      " ...\n",
      " [100   1 102 ... 255 253 255]\n",
      " [  0   1   2 ... 252 253 254]\n",
      " [100   1 102 ... 255 253 255]]\n",
      "Converted back to numpy array:\n",
      "[[100   1 102 ... 255 253 255]\n",
      " [  0   1   2 ... 252 253 254]\n",
      " [100   1 102 ... 255 253 255]\n",
      " ...\n",
      " [100   1 102 ... 255 253 255]\n",
      " [  0   1   2 ... 252 253 254]\n",
      " [100   1 102 ... 255 253 255]]\n"
     ]
    }
   ],
   "source": [
    "# Image dimensions\n",
    "width = 255\n",
    "height = 255\n",
    "\n",
    "# Dummy image data is grayscale - single component, 0..255.\n",
    "# Build it up as a gradient.\n",
    "# Give it a demosaiced red tinge by boosting pixels that should be\n",
    "# under a red filter in the Bayer image pattern.\n",
    "dummy_image_data = []\n",
    "for y in range(height):\n",
    "    row = []\n",
    "    for x in range(width):\n",
    "        red_boost = 100 if (x % 2, y % 2) == (0, 0) else 0\n",
    "        row.append(min(255, x + red_boost))\n",
    "    dummy_image_data.append(row)\n",
    "   \n",
    "\n",
    "gray_image_data = np.array(dummy_image_data, dtype=np.uint8)\n",
    "print(\"Dummy image data:\", gray_image_data)\n",
    "# PIL seems to be ignoring my mode, dangit.\n",
    "gray_img = Image.fromarray(gray_image_data, mode=\"L\")\n",
    "gray_img.show()\n",
    "\n",
    "print(\"Converted back to numpy array:\")\n",
    "print(np.asarray(gray_img))"
   ]
  },
  {
   "cell_type": "code",
   "execution_count": 14,
   "id": "dimensional-luther",
   "metadata": {},
   "outputs": [],
   "source": [
    "# Offset of each color component within a pixel:\n",
    "R = 0\n",
    "G = 1\n",
    "B = 2\n",
    "\n",
    "# filter pattern, addressable as [y][x]\n",
    "pattern = [\n",
    "    [R, G],\n",
    "    [G, B]\n",
    "]\n",
    "\n",
    "# Demosaiced image data is RGB - three components.\n",
    "demosaiced = []\n",
    "for y in range(height):\n",
    "    row = [[0, 0, 0] for x in range(width)]\n",
    "    demosaiced.append(row)\n",
    "\n",
    "    \n",
    "def indices(v, limit):\n",
    "    result = []\n",
    "    for offset in [-1, 0, 1]:\n",
    "        index = v + offset\n",
    "        if 0 <= index < limit:\n",
    "            result.append(index)\n",
    "    return result\n",
    "\n",
    "\n",
    "def channel(x, y):\n",
    "    x_pattern = x % 2\n",
    "    y_pattern = y % 2\n",
    "    return pattern[y_pattern][x_pattern]\n",
    "\n",
    "\n",
    "def demosaic(sensor_image, demosaiced, width, height):\n",
    "    for x_image in range(width):\n",
    "        x_indices = indices(x_image, width)\n",
    "        for y_image in range(height):\n",
    "            y_indices = indices(y_image, height)\n",
    "\n",
    "            sums = {R: 0, G: 0, B: 0}\n",
    "            counts = {R: 0, G: 0, B: 0}\n",
    "\n",
    "            for x in x_indices:\n",
    "                for y in y_indices:\n",
    "                    c = channel(x, y)\n",
    "                    sums[c] += sensor_image[y][x]\n",
    "                    counts[c] += 1\n",
    "            for c in [R, G, B]:\n",
    "                intensity = sums[c] / counts[c] if counts[c] > 0 else 0\n",
    "                # May as well convert to 8-bit integer.\n",
    "                pixel_value = min(255, max(0, int(intensity)))\n",
    "                demosaiced[y_image][x_image][c] = pixel_value\n",
    "\n",
    "demosaic(dummy_image_data, demosaiced, width, height)"
   ]
  },
  {
   "cell_type": "code",
   "execution_count": 15,
   "id": "existing-mineral",
   "metadata": {},
   "outputs": [],
   "source": [
    "color_img = Image.fromarray(np.array(demosaiced, dtype=np.uint8), mode=\"RGB\")\n",
    "color_img.show()"
   ]
  },
  {
   "cell_type": "code",
   "execution_count": null,
   "id": "ruled-summit",
   "metadata": {},
   "outputs": [],
   "source": []
  }
 ],
 "metadata": {
  "kernelspec": {
   "display_name": "Python 3",
   "language": "python",
   "name": "python3"
  },
  "language_info": {
   "codemirror_mode": {
    "name": "ipython",
    "version": 3
   },
   "file_extension": ".py",
   "mimetype": "text/x-python",
   "name": "python",
   "nbconvert_exporter": "python",
   "pygments_lexer": "ipython3",
   "version": "3.9.2"
  }
 },
 "nbformat": 4,
 "nbformat_minor": 5
}
